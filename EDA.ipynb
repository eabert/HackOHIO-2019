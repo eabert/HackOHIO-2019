{
 "cells": [
  {
   "cell_type": "markdown",
   "metadata": {},
   "source": [
    "## EDA"
   ]
  },
  {
   "cell_type": "code",
   "execution_count": 1,
   "metadata": {},
   "outputs": [],
   "source": [
    "import pandas as pd\n",
    "import numpy as np"
   ]
  },
  {
   "cell_type": "code",
   "execution_count": 2,
   "metadata": {},
   "outputs": [],
   "source": [
    "df = pd.read_csv(\"data/HackathonDataDaily.csv\")"
   ]
  },
  {
   "cell_type": "code",
   "execution_count": 3,
   "metadata": {},
   "outputs": [
    {
     "name": "stdout",
     "output_type": "stream",
     "text": [
      "(142224, 8)\n"
     ]
    },
    {
     "data": {
      "text/plain": [
       "['MeterID',\n",
       " 'CurrentValue',\n",
       " 'ValueString',\n",
       " 'Time',\n",
       " 'Building',\n",
       " 'Unit',\n",
       " 'Status',\n",
       " 'StatusCode']"
      ]
     },
     "execution_count": 3,
     "metadata": {},
     "output_type": "execute_result"
    }
   ],
   "source": [
    "print(df.shape)\n",
    "list(df.columns)"
   ]
  },
  {
   "cell_type": "code",
   "execution_count": 4,
   "metadata": {},
   "outputs": [
    {
     "data": {
      "text/html": [
       "<div>\n",
       "<style scoped>\n",
       "    .dataframe tbody tr th:only-of-type {\n",
       "        vertical-align: middle;\n",
       "    }\n",
       "\n",
       "    .dataframe tbody tr th {\n",
       "        vertical-align: top;\n",
       "    }\n",
       "\n",
       "    .dataframe thead th {\n",
       "        text-align: right;\n",
       "    }\n",
       "</style>\n",
       "<table border=\"1\" class=\"dataframe\">\n",
       "  <thead>\n",
       "    <tr style=\"text-align: right;\">\n",
       "      <th></th>\n",
       "      <th>MeterID</th>\n",
       "      <th>CurrentValue</th>\n",
       "      <th>ValueString</th>\n",
       "      <th>Time</th>\n",
       "      <th>Building</th>\n",
       "      <th>Unit</th>\n",
       "      <th>Status</th>\n",
       "      <th>StatusCode</th>\n",
       "    </tr>\n",
       "  </thead>\n",
       "  <tbody>\n",
       "    <tr>\n",
       "      <th>0</th>\n",
       "      <td>OSU_RTS.MDBUS_E3.001_E01</td>\n",
       "      <td>175564.012118</td>\n",
       "      <td>175564.01212</td>\n",
       "      <td>2018-03-22T14:50:10Z</td>\n",
       "      <td>BRICKER BUILDING E01</td>\n",
       "      <td>kWh</td>\n",
       "      <td>OK</td>\n",
       "      <td>3</td>\n",
       "    </tr>\n",
       "    <tr>\n",
       "      <th>1</th>\n",
       "      <td>OSU_RTS.MDBUS_E3.001_E01</td>\n",
       "      <td>178955.329931</td>\n",
       "      <td>178955.32993</td>\n",
       "      <td>2018-03-23T14:50:10Z</td>\n",
       "      <td>BRICKER BUILDING E01</td>\n",
       "      <td>kWh</td>\n",
       "      <td>OK</td>\n",
       "      <td>3</td>\n",
       "    </tr>\n",
       "    <tr>\n",
       "      <th>2</th>\n",
       "      <td>OSU_RTS.MDBUS_E3.001_E01</td>\n",
       "      <td>181938.049931</td>\n",
       "      <td>181938.04993</td>\n",
       "      <td>2018-03-24T14:50:10Z</td>\n",
       "      <td>BRICKER BUILDING E01</td>\n",
       "      <td>kWh</td>\n",
       "      <td>OK</td>\n",
       "      <td>3</td>\n",
       "    </tr>\n",
       "    <tr>\n",
       "      <th>3</th>\n",
       "      <td>OSU_RTS.MDBUS_E3.001_E01</td>\n",
       "      <td>184890.587292</td>\n",
       "      <td>184890.58729</td>\n",
       "      <td>2018-03-25T14:50:10Z</td>\n",
       "      <td>BRICKER BUILDING E01</td>\n",
       "      <td>kWh</td>\n",
       "      <td>OK</td>\n",
       "      <td>3</td>\n",
       "    </tr>\n",
       "    <tr>\n",
       "      <th>4</th>\n",
       "      <td>OSU_RTS.MDBUS_E3.001_E01</td>\n",
       "      <td>188171.454722</td>\n",
       "      <td>188171.45472</td>\n",
       "      <td>2018-03-26T14:50:10Z</td>\n",
       "      <td>BRICKER BUILDING E01</td>\n",
       "      <td>kWh</td>\n",
       "      <td>OK</td>\n",
       "      <td>3</td>\n",
       "    </tr>\n",
       "  </tbody>\n",
       "</table>\n",
       "</div>"
      ],
      "text/plain": [
       "                    MeterID   CurrentValue   ValueString  \\\n",
       "0  OSU_RTS.MDBUS_E3.001_E01  175564.012118  175564.01212   \n",
       "1  OSU_RTS.MDBUS_E3.001_E01  178955.329931  178955.32993   \n",
       "2  OSU_RTS.MDBUS_E3.001_E01  181938.049931  181938.04993   \n",
       "3  OSU_RTS.MDBUS_E3.001_E01  184890.587292  184890.58729   \n",
       "4  OSU_RTS.MDBUS_E3.001_E01  188171.454722  188171.45472   \n",
       "\n",
       "                   Time              Building Unit Status  StatusCode  \n",
       "0  2018-03-22T14:50:10Z  BRICKER BUILDING E01  kWh     OK           3  \n",
       "1  2018-03-23T14:50:10Z  BRICKER BUILDING E01  kWh     OK           3  \n",
       "2  2018-03-24T14:50:10Z  BRICKER BUILDING E01  kWh     OK           3  \n",
       "3  2018-03-25T14:50:10Z  BRICKER BUILDING E01  kWh     OK           3  \n",
       "4  2018-03-26T14:50:10Z  BRICKER BUILDING E01  kWh     OK           3  "
      ]
     },
     "execution_count": 4,
     "metadata": {},
     "output_type": "execute_result"
    }
   ],
   "source": [
    "df.head(5)"
   ]
  },
  {
   "cell_type": "code",
   "execution_count": 5,
   "metadata": {},
   "outputs": [
    {
     "name": "stdout",
     "output_type": "stream",
     "text": [
      "354\n"
     ]
    },
    {
     "data": {
      "text/plain": [
       "array(['BRICKER BUILDING E01', 'Oxley Electric Meter',\n",
       "       'Kennedy Elec Consumption', 'WATTS HALL E02', 'SULLIVANT ELEC 1',\n",
       "       'ARPS HALL E02', 'TORRES ELEC CONS', 'HOUSTON ELEC CONS',\n",
       "       'RANEY ELEC CONS', 'BOWEN ELEC CONS', 'BUSCH ELEC CONS',\n",
       "       'CURL HALL ELEC CONS', 'BLACKBURN ELEC CONS',\n",
       "       'SCOTT HOUSE ELEC 1 CONS', 'N. REC ELEC CONS', 'NOSKER ELEC CONS',\n",
       "       'SCOTT HOUSE ELEC 2 CONS', 'BRICKER CW HEAT FLOW',\n",
       "       'OXLEY STM HEAT FLOW', 'WATTS ST HEAT FLOW',\n",
       "       'BRICKER ST HEAT FLOW', 'KENNEDY STM HEAT FLOW',\n",
       "       'TORRES CW HEAT FLOW', 'RANEY CW HEAT FLOW', 'BOWEN CW HEAT FLOW',\n",
       "       'TORRES HW HEAT FLOW', 'SULLIVANT STM HEAT FLOW',\n",
       "       'BUSCH CW HEAT FLOW', 'HOUSTON HW HEAT FLOW', 'RANEY HW HEAT FLOW',\n",
       "       'CURL CW HEAT FLOW', 'ARPS HW HEAT FLOW', 'SCOTT HHW HEAT FLOW',\n",
       "       'CURL HW HEAT FLOW', 'BLACKBURN CW HEAT FLOW',\n",
       "       'SCOTT CW HEAT FLOW', 'NORTH REC CW HEAT FLOW',\n",
       "       'N. REC HW HEAT FLOW', 'BRT STM HEAT FLOW', 'NOSKER CW HEAT FLOW',\n",
       "       'BLACKBURN HW HEAT FLOW', 'SMITH SUB CW HEAT FLOW',\n",
       "       'VMA CW HEAT FLOW', 'NOSKER HHW HEAT FLOW', 'PSYCH CW HEAT FLOW',\n",
       "       'PSYCH STM HEAT FLOW', 'BOLZ/HITCH CW HEAT FLOW',\n",
       "       'BOLZ STM HEAT FLOW', 'BOLZ CW HEAT FLOW',\n",
       "       'JENNINGS STM HEAT FLOW', 'NEWMAN CW HEAT FLOW',\n",
       "       'Smith Sub Meter #1 kWh', 'Smith Sub Meter #2 kWh',\n",
       "       'BRT Elec Meter 2 Consum', 'BRT Elec Meter 1 Consum',\n",
       "       'BOLZ HALL E01', 'BRT Elec Meter 3 Consum',\n",
       "       'BRT Elec Meter 4 Consum', 'BOLZ HALL E02', 'NEWMAN WOLFROM E03',\n",
       "       'NEWMAN WOLFROM E04', 'JENNINGS ELEC 1', 'HOPKINS HALL ELEC E01',\n",
       "       'HOPKINS HALL ELEC E02', 'EVANS LAB E02', 'EVANS LAB E03',\n",
       "       'Scott Lab Elec 1 Consum', 'EVANS LAB E04',\n",
       "       'PSYCHOLOGY ELEC CONS 1', 'PSYCHOLOGY ELEC CONS 2',\n",
       "       'Scott Lab Elec 2 Consum', 'OHIO UNION ELEC.CONSUMPT',\n",
       "       '160 SAS consumption', 'NEWMAN WOLF ST HEAT FLOW',\n",
       "       'EVANS LAB ST HEAT FLOW', 'SCOTT LAB STM HEAT FLOW',\n",
       "       'SAS CW HEAT FLOW', 'EVANS LAB CW HEAT FLOW',\n",
       "       'HOPKINS STM HEAT FLOW', 'KNOWLTON CW HEAT FLOW',\n",
       "       'KNOWTON STM HEAT FLOW', 'TZAGOURNIS STM HEAT FLOW',\n",
       "       'STAR/LOVE ST HEAT FLOW', 'GOSS BYPASS CW HEAT FLOW',\n",
       "       'CAMPBELL CW HEAT FLOW', 'CAMPBELL STM HEAT FLOW',\n",
       "       'MATH BLDG CW HEAT FLOW', 'PAES ST HEAT FLOW',\n",
       "       'RPAC CALC CW HEAT FLOW', 'PAES CW HEAT FLOW',\n",
       "       'ICE RINK STM HEAT FLOW', 'OHIO UNION HEAT FLOW',\n",
       "       'MATH BLD HW HEAT FLOW', 'SAS STM HEAT FLOW',\n",
       "       'RPAC M2 CW HEAT FLOW', 'MCCORKLE DP HW HEAT FLOW',\n",
       "       'MCCORKLE CP HW HEAT FLOW', 'RPAC STM HEAT FLOW',\n",
       "       'RPAC M5 HW HEAT FLOW', 'FISHER CW HEAT FLOW',\n",
       "       'RPAC M4 HW HEAT FLOW', 'CBEC CW HEAT FLOW',\n",
       "       'RPAC M6 HW HEAT FLOW', 'SCHOENBAUM STM HEAT FLOW',\n",
       "       'CBEC STM HEAT FLOW', 'DERBY STM HEAT FLOW', 'MASON STM HEAT FLOW',\n",
       "       '160 elec consumption', 'Tzagournis Elec meter 2',\n",
       "       'STARLING LOVING HALL E01', 'STARLING LOVING HALL E02',\n",
       "       'STARLING LOVING HALL E03', 'CAMPBELL HALL E01',\n",
       "       'CAMPBELL HALL E02', 'GOSS LAB E01', 'KNOWLTON HALL E01',\n",
       "       'Tzagournis Elec meter 1', 'GOSS CHILLER ELEC METER',\n",
       "       'MATH BLDG ELEC 1', 'PAES E03', 'MATH BLDG ELEC 2', 'PAES E08',\n",
       "       'RPAC Solar panels tot re', 'CBEC SWGR A METER LEFT',\n",
       "       'CBEC SWGR B METER LEFT', 'RPAC MSB1', 'DERBY HALL E01',\n",
       "       'DERBY HALL E02', 'RPAC MSB2', 'CBEC SWGR B METER RIGHT',\n",
       "       'FISHER HALL ELEC CONS', 'CBEC SWGR A METER RIGHT',\n",
       "       'SCHOENBAUM HALL ELEC 1', 'MASON HALL ELEC CONS',\n",
       "       'RIFFE BUILDING E01', 'RIFFE BUILDING E02', 'PARKS HALL E02',\n",
       "       'PARKS HALL E01', 'PARKS HALL E03', 'HITCHCOCK HALL E01',\n",
       "       'BioSciences Elec Meter 3', 'NEWTON ELEC 1',\n",
       "       'Dreese lab E2 consumptio', 'Dreese Elec 3Consumption',\n",
       "       'BioSciences Elec meter 1', 'BioSciences Elec meter 2',\n",
       "       'DREESE ELECTRIC', 'SCHOENBAUM CW HEAT FLOW',\n",
       "       'BLACKWELL CW HEAT FLOW', 'BLACKWELL STM HEAT FLOW',\n",
       "       '12TH AVE EAST ST HEAT FL', 'MASON CW HEAT FLOW',\n",
       "       '12TH AVE WEST HEAT FLOW', 'HALE HALL ST HEAT FLOW',\n",
       "       'CALDWELL CW HEAT FLOW', 'RIFFE ST HEAT FLOW',\n",
       "       'HITCHCOCK CW HEAT FLOW', 'MORRILL KIT.STM.HEAT FLO',\n",
       "       'HITCHCOCK HALL ST HT FLO', 'PARK STM HEAT FLOW',\n",
       "       'MORRILL STM HEAT FLOW', 'NEWTON STM HEAT FLOW',\n",
       "       'BIOSCI STM HEAT FLOW', 'BIOSCI CW HEAT FLOW',\n",
       "       'DREESE CW HEAT FLOW', 'BAKER BMNT CW HEAT FLOW',\n",
       "       'DREESE STM HEAT FLOW', 'BAKER PENT CW HEAT FLOW',\n",
       "       'EQUINE CW HEAT FLOW', 'CUNZ HW HEAT FLOW',\n",
       "       'BAKER SYS STM HEAT FLOW', 'CUNZ ST HEAT FLOW',\n",
       "       'CUNZ CW HEAT FLOW', 'DRAKE STM HEAT FLOW',\n",
       "       'VET HOSP CW HEAT FLOW', 'AG ENGIN STM HEAT FLOW',\n",
       "       'VET HOSP STM HEAT FLOW', 'AG ADMIN STM HEAT FLOW',\n",
       "       'DULLES CW HEAT FLOW', 'PRIOR STM HEAT FLOW',\n",
       "       'INDEPEND CW HEAT FLOW', 'UHALL HW HEAT FLOW',\n",
       "       'DENNEY HW HEAT FLOW', 'U-HALL CW HEAT FLOW',\n",
       "       'WEIGEL HALL HW HEAT FLOW', 'ROSS CW HEAT FLOW',\n",
       "       'KOTTMAN STM HEAT FLOW', 'RHODES CW HEAT FLOW',\n",
       "       '395 W.12TH STM HEAT FLOW', 'HAGERTY HALL ST HT FLOW',\n",
       "       'CELESTE CW HEAT FLOW', 'CELESTE ST HEAT FLOW',\n",
       "       'BRAIN & SPIN CW HEAT FLO', 'CCCT STM HEAT FLOW',\n",
       "       'ERCWP CW HEAT FLOW', 'CCCT CW HEAT FLOW',\n",
       "       'WEXNER CNTR. ST HEAT FLO', 'SCCCP CW HEAT FLOW',\n",
       "       'BRAIN / SPINE ST HEAT FL', 'WATER TRTMNT ST HEAT FLO',\n",
       "       'ERCWP STM HEAT FLOW', '209 W 18 CW HEAT FLOW',\n",
       "       'LAZENBY CW HEAT FLOW', 'JOURNALISM CW HEAT FLOW',\n",
       "       'HAMILTON STEAM HEAT FLOW', '209 HW HEAT FLOW',\n",
       "       'THOMPSON CW HEAT FLOW', 'DRINKO STM HEAT FLOW',\n",
       "       'SEL CW HEAT FLOW', 'SEL STM HEAT FLOW', 'MCPHERSON CW HEAT FLOW',\n",
       "       'MCPHERSON ST HEAT FLOW', 'MENDENAHALL ST HEAT FLOW',\n",
       "       'ORTON HALL HW HEAT FLOW', 'CALDWELL STM HEAT FLOW',\n",
       "       'MERSHON STM HEAT FLOW', 'SMITH LAB ST HEAT FLOW',\n",
       "       'POMERENE HALL ST HT FLOW', 'FRY STM HEAT FLOW',\n",
       "       'SMITH LAB CW HEAT FLOW', 'MCCRACKEN CW HEAT FLOW',\n",
       "       'PAGE STM HEAT FLOW', 'MCCRACKEN ST 1 HEAT FLOW',\n",
       "       'MCCRACKEN ST 3 HEAT FLOW', 'MCCRACKEN ST 2 HEAT FLOW',\n",
       "       'MATH TWR CW HEAT FLOW', 'PRB CW HEAT FLOW',\n",
       "       'ENERSON CW HEAT FLOW', 'PRB STM HEAT FLOW',\n",
       "       'ST.JOHN STM HEAT FLOW', 'CNTRL SRVS HW HEAT FLOW',\n",
       "       'SISSON CW HEAT FLOW', 'MATH TWR HW HEAT FLOW',\n",
       "       'P-S PARK CW HEAT FLOW', 'P-S STRADLEY CW HEAT FLO',\n",
       "       'SCHOTT STM HEAT FLOW', 'OHIO STAD. STM HEAT FLOW',\n",
       "       'SMITH STEEB CW HEAT FLOW', 'HALE STEAM HEAT FLOW',\n",
       "       'TOWNSHEND CW HEAT FLOW', 'BLACKWELL ELEC CONS',\n",
       "       'Baker Systems Consum E01', 'CUNZ ELEC CONS SB-1',\n",
       "       'Dreese Elec 4Consumption', 'AG ENG ELEC 1',\n",
       "       'VET HOSP CHILLER 1 ELEC', 'DRAKE UNION ELEC',\n",
       "       'VET HOSP CHILLER 5 ELEC', 'AG ENG ELEC 2',\n",
       "       'VET HOSP CHILLER 2 ELEC', 'VET HOSP CHILLER 4 ELEC',\n",
       "       'VET HOSP CHILLER 3 ELEC', 'VET HOSP GEAR E2', 'VET HOSP GEAR E1',\n",
       "       'DOAN CW HEAT FLOW', 'SMITH-STEEB HW HEAT FLOW',\n",
       "       'TOWNSHEND STM HEAT FLOW', 'P-S STEAM HEAT FLOW',\n",
       "       'SIEBERT HW HEAT FLOW', 'SIEBERT STEAM HEAT FLW',\n",
       "       'VET HOSP GEAR E5', 'CUNZ ELEC CONS SB-2',\n",
       "       'Vet Hosp Gear E3 consump', 'DENNEY HALL E01', 'DENNEY HALL E02',\n",
       "       'AG ADMIN ELEC 1', 'DULLES HALL E01', 'INDEPENDENCE HALL E01',\n",
       "       'UNIVERSITY HALL E01', 'Vet Hosp Gear E4 Consump',\n",
       "       'KOTTMAN HALL E01', 'KOTTMAN HALL E02', 'WEIGEL HALL E01',\n",
       "       'KOTTMAN HALL E03', '395 W 12th ave E 1', 'HAGERTY HALL EO1',\n",
       "       'CELESTE LAB E01', 'CELESTE LAB E02', '395 W 12th Ave E 2',\n",
       "       'CELESTE LAB E03', 'CELESTE LAB E04', 'CCCT 1B', 'CCCT 1A',\n",
       "       'CCCT 2A', 'CCCT 2B', 'CCCT 3A', 'CCCT 3B', 'AU BON PAIN ELEC',\n",
       "       'CCCT 4A', 'CCCT 4B', 'ERCWP E2 CONSUMPTION',\n",
       "       'ERCWP E1 CONSUMPTION', 'WEXNER CENTER E01', 'WEXNER CENTER E02',\n",
       "       'WEXNER CENTER E03', 'ERCWP E3 CONSUMPTION',\n",
       "       'ERCWP E4 CONSUMPTION', 'SCCCP ION 206C', 'SCCCP ION 100C',\n",
       "       'SCCCP ION 205C', 'Water Plant S. Electric',\n",
       "       'Water Plant N. Electric', 'LAZENBY HALL E01',\n",
       "       'JOURNALISM BUILDING E03', 'DRINKO HALL E01', 'SCCCP ION 300C',\n",
       "       'DRINKO HALL E02', 'SCCCP ION 200C', 'DRINKO HALL E04',\n",
       "       '18TH AVE LIBRARY E01', '18TH AVE LIBRARY E02',\n",
       "       'Thompson Usage E02', 'MCPHERSON ELEC CONS 1',\n",
       "       'MERSHON AUDITORIUM E03', 'MERSHON AUDITORIUM E04',\n",
       "       'ORTON HALL ELEC E01', 'PAGE HALL E01', 'SMITH LAB E01',\n",
       "       'MCPHERSON ELEC CONS 2', 'SMITH LAB E02', 'Thompson Usage E01',\n",
       "       'SMITH LAB E04', 'POMERENE HALL E01', 'Mendenhall elec consum',\n",
       "       'MCCRACKEN ION 401', 'MCCRACKEN ION 604',\n",
       "       'MCCRACKEN RM 325 CLG TWR', 'MCCRACKEN CW PUMP 4',\n",
       "       'MCCRACKEN TW PUMP 5', 'MCCRACKEN SUB 3', 'MCCRACKEN SUB 4',\n",
       "       'MATH TOWER ELEC 2', 'MCCRACKEN SUB 5', 'MATH TOWER ELEC 1',\n",
       "       'CENTRAL SERVICE BLDG E01', 'SISSON HALL E02',\n",
       "       'PRB Electric Meter 2 Con', 'SCHOTT E1 MS1 E07',\n",
       "       'SCHOTT E3 US3 E03', 'SCHOTT E2 MS2 E01', 'SCHOTT E4 US4 E02',\n",
       "       'SCHOTT E7 US5 E04', 'SCHOTT E8 US6 E05', 'PRB Electric Meter 1',\n",
       "       'SCHOTT E6 US1 E06', 'P-S Electrical Cousum 3',\n",
       "       'P-S Electrical Consum 2', 'PARK STRADLEY ELECTRIC 1',\n",
       "       'Hale Elec Consumption', 'TOWNSHEND HALL E01',\n",
       "       'P-S Electrical Consum 4', 'P-S Electrical Consum 5',\n",
       "       'SIEBERT ELEC CONS', 'SMITH-STEEB ELEC CONS'], dtype=object)"
      ]
     },
     "execution_count": 5,
     "metadata": {},
     "output_type": "execute_result"
    }
   ],
   "source": [
    "print(len(df.Building.unique()))\n",
    "df.Building.unique() "
   ]
  },
  {
   "cell_type": "code",
   "execution_count": 7,
   "metadata": {},
   "outputs": [
    {
     "data": {
      "text/html": [
       "<div>\n",
       "<style scoped>\n",
       "    .dataframe tbody tr th:only-of-type {\n",
       "        vertical-align: middle;\n",
       "    }\n",
       "\n",
       "    .dataframe tbody tr th {\n",
       "        vertical-align: top;\n",
       "    }\n",
       "\n",
       "    .dataframe thead tr th {\n",
       "        text-align: left;\n",
       "    }\n",
       "\n",
       "    .dataframe thead tr:last-of-type th {\n",
       "        text-align: right;\n",
       "    }\n",
       "</style>\n",
       "<table border=\"1\" class=\"dataframe\">\n",
       "  <thead>\n",
       "    <tr>\n",
       "      <th></th>\n",
       "      <th colspan=\"2\" halign=\"left\">CurrentValue</th>\n",
       "    </tr>\n",
       "    <tr>\n",
       "      <th></th>\n",
       "      <th>amin</th>\n",
       "      <th>amax</th>\n",
       "    </tr>\n",
       "    <tr>\n",
       "      <th>Building</th>\n",
       "      <th></th>\n",
       "      <th></th>\n",
       "    </tr>\n",
       "  </thead>\n",
       "  <tbody>\n",
       "    <tr>\n",
       "      <th>12TH AVE EAST ST HEAT FL</th>\n",
       "      <td>-1.110627e+04</td>\n",
       "      <td>2.665157e+03</td>\n",
       "    </tr>\n",
       "    <tr>\n",
       "      <th>12TH AVE WEST HEAT FLOW</th>\n",
       "      <td>4.133206e+03</td>\n",
       "      <td>1.463089e+04</td>\n",
       "    </tr>\n",
       "    <tr>\n",
       "      <th>160 SAS consumption</th>\n",
       "      <td>2.588415e+06</td>\n",
       "      <td>3.248129e+06</td>\n",
       "    </tr>\n",
       "  </tbody>\n",
       "</table>\n",
       "</div>"
      ],
      "text/plain": [
       "                          CurrentValue              \n",
       "                                  amin          amax\n",
       "Building                                            \n",
       "12TH AVE EAST ST HEAT FL -1.110627e+04  2.665157e+03\n",
       "12TH AVE WEST HEAT FLOW   4.133206e+03  1.463089e+04\n",
       "160 SAS consumption       2.588415e+06  3.248129e+06"
      ]
     },
     "execution_count": 7,
     "metadata": {},
     "output_type": "execute_result"
    }
   ],
   "source": [
    "df.groupby(['Building']).agg({'CurrentValue' : [np.min, np.max]}).head(3)"
   ]
  },
  {
   "cell_type": "code",
   "execution_count": 8,
   "metadata": {},
   "outputs": [
    {
     "name": "stdout",
     "output_type": "stream",
     "text": [
      "730\n"
     ]
    },
    {
     "data": {
      "text/html": [
       "<div>\n",
       "<style scoped>\n",
       "    .dataframe tbody tr th:only-of-type {\n",
       "        vertical-align: middle;\n",
       "    }\n",
       "\n",
       "    .dataframe tbody tr th {\n",
       "        vertical-align: top;\n",
       "    }\n",
       "\n",
       "    .dataframe thead th {\n",
       "        text-align: right;\n",
       "    }\n",
       "</style>\n",
       "<table border=\"1\" class=\"dataframe\">\n",
       "  <thead>\n",
       "    <tr style=\"text-align: right;\">\n",
       "      <th></th>\n",
       "      <th>MeterID</th>\n",
       "      <th>CurrentValue</th>\n",
       "      <th>ValueString</th>\n",
       "      <th>Time</th>\n",
       "      <th>Building</th>\n",
       "      <th>Unit</th>\n",
       "      <th>Status</th>\n",
       "      <th>StatusCode</th>\n",
       "    </tr>\n",
       "  </thead>\n",
       "  <tbody>\n",
       "    <tr>\n",
       "      <th>12299</th>\n",
       "      <td>OSU_RTS.MDBUS_RH.1102_HHF</td>\n",
       "      <td>529.772264</td>\n",
       "      <td>529.772264</td>\n",
       "      <td>2017-01-01T00:00:00Z</td>\n",
       "      <td>HOUSTON HW HEAT FLOW</td>\n",
       "      <td>KBTU/HR</td>\n",
       "      <td>OK</td>\n",
       "      <td>2051</td>\n",
       "    </tr>\n",
       "    <tr>\n",
       "      <th>12300</th>\n",
       "      <td>OSU_RTS.MDBUS_RH.1102_HHF</td>\n",
       "      <td>380.548308</td>\n",
       "      <td>380.548308</td>\n",
       "      <td>2017-01-02T00:00:00Z</td>\n",
       "      <td>HOUSTON HW HEAT FLOW</td>\n",
       "      <td>KBTU/HR</td>\n",
       "      <td>OK</td>\n",
       "      <td>2051</td>\n",
       "    </tr>\n",
       "    <tr>\n",
       "      <th>12301</th>\n",
       "      <td>OSU_RTS.MDBUS_RH.1102_HHF</td>\n",
       "      <td>149.572115</td>\n",
       "      <td>149.572115</td>\n",
       "      <td>2017-01-03T00:00:00Z</td>\n",
       "      <td>HOUSTON HW HEAT FLOW</td>\n",
       "      <td>KBTU/HR</td>\n",
       "      <td>OK</td>\n",
       "      <td>2051</td>\n",
       "    </tr>\n",
       "    <tr>\n",
       "      <th>12302</th>\n",
       "      <td>OSU_RTS.MDBUS_RH.1102_HHF</td>\n",
       "      <td>876.177228</td>\n",
       "      <td>876.177228</td>\n",
       "      <td>2017-01-04T00:00:00Z</td>\n",
       "      <td>HOUSTON HW HEAT FLOW</td>\n",
       "      <td>KBTU/HR</td>\n",
       "      <td>OK</td>\n",
       "      <td>2051</td>\n",
       "    </tr>\n",
       "    <tr>\n",
       "      <th>12303</th>\n",
       "      <td>OSU_RTS.MDBUS_RH.1102_HHF</td>\n",
       "      <td>1318.082289</td>\n",
       "      <td>1318.082289</td>\n",
       "      <td>2017-01-05T00:00:00Z</td>\n",
       "      <td>HOUSTON HW HEAT FLOW</td>\n",
       "      <td>KBTU/HR</td>\n",
       "      <td>OK</td>\n",
       "      <td>2051</td>\n",
       "    </tr>\n",
       "  </tbody>\n",
       "</table>\n",
       "</div>"
      ],
      "text/plain": [
       "                         MeterID  CurrentValue  ValueString  \\\n",
       "12299  OSU_RTS.MDBUS_RH.1102_HHF    529.772264   529.772264   \n",
       "12300  OSU_RTS.MDBUS_RH.1102_HHF    380.548308   380.548308   \n",
       "12301  OSU_RTS.MDBUS_RH.1102_HHF    149.572115   149.572115   \n",
       "12302  OSU_RTS.MDBUS_RH.1102_HHF    876.177228   876.177228   \n",
       "12303  OSU_RTS.MDBUS_RH.1102_HHF   1318.082289  1318.082289   \n",
       "\n",
       "                       Time              Building     Unit Status  StatusCode  \n",
       "12299  2017-01-01T00:00:00Z  HOUSTON HW HEAT FLOW  KBTU/HR     OK        2051  \n",
       "12300  2017-01-02T00:00:00Z  HOUSTON HW HEAT FLOW  KBTU/HR     OK        2051  \n",
       "12301  2017-01-03T00:00:00Z  HOUSTON HW HEAT FLOW  KBTU/HR     OK        2051  \n",
       "12302  2017-01-04T00:00:00Z  HOUSTON HW HEAT FLOW  KBTU/HR     OK        2051  \n",
       "12303  2017-01-05T00:00:00Z  HOUSTON HW HEAT FLOW  KBTU/HR     OK        2051  "
      ]
     },
     "execution_count": 8,
     "metadata": {},
     "output_type": "execute_result"
    }
   ],
   "source": [
    "print(len(df[df.MeterID == \"OSU_RTS.MDBUS_RH.1102_HHF\"]))\n",
    "df[df.MeterID == \"OSU_RTS.MDBUS_RH.1102_HHF\"].head(5)"
   ]
  },
  {
   "cell_type": "markdown",
   "metadata": {},
   "source": [
    "### Config"
   ]
  },
  {
   "cell_type": "code",
   "execution_count": 9,
   "metadata": {},
   "outputs": [],
   "source": [
    "config = pd.read_csv(\"data/HackathonConfig.csv\")"
   ]
  },
  {
   "cell_type": "code",
   "execution_count": 70,
   "metadata": {},
   "outputs": [],
   "source": [
    "# config.columns = ['BuildingID', 'MeterID', 'Description', 'Units', 'Resource', 'BuildingName', 'GrossSquareFeet', 'BuildDate', 'Latitude', 'Longitude', 'Campus', 'Organization', 'LocationType', 'SteamSourceID', 'ChilledWaterSourceID', 'HotWaterSourceID', 'ActivationDate']\n",
    "# config.to_csv(\"data/HackathonConfigClean.csv\", index = False)"
   ]
  },
  {
   "cell_type": "code",
   "execution_count": 10,
   "metadata": {},
   "outputs": [
    {
     "name": "stdout",
     "output_type": "stream",
     "text": [
      "(355, 17)\n"
     ]
    },
    {
     "data": {
      "text/plain": [
       "['BuildingID',\n",
       " 'MeterID',\n",
       " 'Description',\n",
       " 'Units',\n",
       " 'Resource',\n",
       " 'BuildingName',\n",
       " 'GrossSquareFeet',\n",
       " 'BuildDate',\n",
       " 'Latitude',\n",
       " 'Longitude',\n",
       " 'Campus',\n",
       " 'Organization',\n",
       " 'LocationType',\n",
       " 'SteamSourceID',\n",
       " 'ChilledWaterSourceID',\n",
       " 'HotWaterSourceID',\n",
       " 'ActivationDate']"
      ]
     },
     "execution_count": 10,
     "metadata": {},
     "output_type": "execute_result"
    }
   ],
   "source": [
    "print(config.shape)\n",
    "list(config.columns)"
   ]
  },
  {
   "cell_type": "code",
   "execution_count": 11,
   "metadata": {},
   "outputs": [
    {
     "data": {
      "text/html": [
       "<div>\n",
       "<style scoped>\n",
       "    .dataframe tbody tr th:only-of-type {\n",
       "        vertical-align: middle;\n",
       "    }\n",
       "\n",
       "    .dataframe tbody tr th {\n",
       "        vertical-align: top;\n",
       "    }\n",
       "\n",
       "    .dataframe thead th {\n",
       "        text-align: right;\n",
       "    }\n",
       "</style>\n",
       "<table border=\"1\" class=\"dataframe\">\n",
       "  <thead>\n",
       "    <tr style=\"text-align: right;\">\n",
       "      <th></th>\n",
       "      <th>BuildingID</th>\n",
       "      <th>MeterID</th>\n",
       "      <th>Description</th>\n",
       "      <th>Units</th>\n",
       "      <th>Resource</th>\n",
       "      <th>BuildingName</th>\n",
       "      <th>GrossSquareFeet</th>\n",
       "      <th>BuildDate</th>\n",
       "      <th>Latitude</th>\n",
       "      <th>Longitude</th>\n",
       "      <th>Campus</th>\n",
       "      <th>Organization</th>\n",
       "      <th>LocationType</th>\n",
       "      <th>SteamSourceID</th>\n",
       "      <th>ChilledWaterSourceID</th>\n",
       "      <th>HotWaterSourceID</th>\n",
       "      <th>ActivationDate</th>\n",
       "    </tr>\n",
       "  </thead>\n",
       "  <tbody>\n",
       "    <tr>\n",
       "      <th>0</th>\n",
       "      <td>1102</td>\n",
       "      <td>OSU_RTS.MDBUS_RH.1102_HHF</td>\n",
       "      <td>HOUSTON HW HEAT FLOW</td>\n",
       "      <td>KBTU/HR</td>\n",
       "      <td>Heating Hot Water</td>\n",
       "      <td>Houston House</td>\n",
       "      <td>136557.0</td>\n",
       "      <td>2016-07-01</td>\n",
       "      <td>40.00581</td>\n",
       "      <td>-83.01166</td>\n",
       "      <td>Main</td>\n",
       "      <td>SDL</td>\n",
       "      <td>Student Housing</td>\n",
       "      <td>NaN</td>\n",
       "      <td>NaN</td>\n",
       "      <td>NaN</td>\n",
       "      <td>2016-12-31T23:59:57Z</td>\n",
       "    </tr>\n",
       "    <tr>\n",
       "      <th>1</th>\n",
       "      <td>1103</td>\n",
       "      <td>OSU_RTS.MDBUS_RH.1103_HHF</td>\n",
       "      <td>RANEY HW HEAT FLOW</td>\n",
       "      <td>KBTU/HR</td>\n",
       "      <td>Heating Hot Water</td>\n",
       "      <td>Raney House</td>\n",
       "      <td>125474.0</td>\n",
       "      <td>2015-07-01</td>\n",
       "      <td>40.00547</td>\n",
       "      <td>-83.01003</td>\n",
       "      <td>Main</td>\n",
       "      <td>SDL</td>\n",
       "      <td>Student Housing</td>\n",
       "      <td>NaN</td>\n",
       "      <td>NaN</td>\n",
       "      <td>NaN</td>\n",
       "      <td>2016-12-31T23:59:57Z</td>\n",
       "    </tr>\n",
       "    <tr>\n",
       "      <th>2</th>\n",
       "      <td>1103</td>\n",
       "      <td>OSU_RTS.MDBUS_RH.1103C_HF</td>\n",
       "      <td>RANEY CW HEAT FLOW</td>\n",
       "      <td>KBTU/HR</td>\n",
       "      <td>Chilled Water</td>\n",
       "      <td>Raney House</td>\n",
       "      <td>125474.0</td>\n",
       "      <td>2015-07-01</td>\n",
       "      <td>40.00547</td>\n",
       "      <td>-83.01003</td>\n",
       "      <td>Main</td>\n",
       "      <td>SDL</td>\n",
       "      <td>Student Housing</td>\n",
       "      <td>NaN</td>\n",
       "      <td>NaN</td>\n",
       "      <td>NaN</td>\n",
       "      <td>2018-09-20T20:30:31Z</td>\n",
       "    </tr>\n",
       "    <tr>\n",
       "      <th>3</th>\n",
       "      <td>1104</td>\n",
       "      <td>OSU_RTS.MDBUS_RH.1104C_HF</td>\n",
       "      <td>BOWEN CW HEAT FLOW</td>\n",
       "      <td>KBTU/HR</td>\n",
       "      <td>Chilled Water</td>\n",
       "      <td>Bowen House</td>\n",
       "      <td>95448.0</td>\n",
       "      <td>2015-07-01</td>\n",
       "      <td>40.00536</td>\n",
       "      <td>-83.00942</td>\n",
       "      <td>Main</td>\n",
       "      <td>SDL</td>\n",
       "      <td>Student Housing</td>\n",
       "      <td>NaN</td>\n",
       "      <td>NaN</td>\n",
       "      <td>NaN</td>\n",
       "      <td>2018-09-20T20:33:18Z</td>\n",
       "    </tr>\n",
       "    <tr>\n",
       "      <th>4</th>\n",
       "      <td>1105</td>\n",
       "      <td>OSU_RTS.MDBUS_RH.1105C_HF</td>\n",
       "      <td>BUSCH CW HEAT FLOW</td>\n",
       "      <td>KBTU/HR</td>\n",
       "      <td>Chilled Water</td>\n",
       "      <td>Busch House</td>\n",
       "      <td>109926.0</td>\n",
       "      <td>2016-07-01</td>\n",
       "      <td>40.00475</td>\n",
       "      <td>-83.00930</td>\n",
       "      <td>Main</td>\n",
       "      <td>SDL</td>\n",
       "      <td>Student Housing</td>\n",
       "      <td>NaN</td>\n",
       "      <td>NaN</td>\n",
       "      <td>NaN</td>\n",
       "      <td>2018-09-20T20:35:58Z</td>\n",
       "    </tr>\n",
       "  </tbody>\n",
       "</table>\n",
       "</div>"
      ],
      "text/plain": [
       "   BuildingID                    MeterID           Description    Units  \\\n",
       "0        1102  OSU_RTS.MDBUS_RH.1102_HHF  HOUSTON HW HEAT FLOW  KBTU/HR   \n",
       "1        1103  OSU_RTS.MDBUS_RH.1103_HHF    RANEY HW HEAT FLOW  KBTU/HR   \n",
       "2        1103  OSU_RTS.MDBUS_RH.1103C_HF    RANEY CW HEAT FLOW  KBTU/HR   \n",
       "3        1104  OSU_RTS.MDBUS_RH.1104C_HF    BOWEN CW HEAT FLOW  KBTU/HR   \n",
       "4        1105  OSU_RTS.MDBUS_RH.1105C_HF    BUSCH CW HEAT FLOW  KBTU/HR   \n",
       "\n",
       "            Resource   BuildingName  GrossSquareFeet   BuildDate  Latitude  \\\n",
       "0  Heating Hot Water  Houston House         136557.0  2016-07-01  40.00581   \n",
       "1  Heating Hot Water    Raney House         125474.0  2015-07-01  40.00547   \n",
       "2     Chilled Water     Raney House         125474.0  2015-07-01  40.00547   \n",
       "3     Chilled Water     Bowen House          95448.0  2015-07-01  40.00536   \n",
       "4     Chilled Water     Busch House         109926.0  2016-07-01  40.00475   \n",
       "\n",
       "   Longitude Campus Organization     LocationType  SteamSourceID  \\\n",
       "0  -83.01166   Main          SDL  Student Housing            NaN   \n",
       "1  -83.01003   Main          SDL  Student Housing            NaN   \n",
       "2  -83.01003   Main          SDL  Student Housing            NaN   \n",
       "3  -83.00942   Main          SDL  Student Housing            NaN   \n",
       "4  -83.00930   Main          SDL  Student Housing            NaN   \n",
       "\n",
       "   ChilledWaterSourceID  HotWaterSourceID        ActivationDate  \n",
       "0                   NaN               NaN  2016-12-31T23:59:57Z  \n",
       "1                   NaN               NaN  2016-12-31T23:59:57Z  \n",
       "2                   NaN               NaN  2018-09-20T20:30:31Z  \n",
       "3                   NaN               NaN  2018-09-20T20:33:18Z  \n",
       "4                   NaN               NaN  2018-09-20T20:35:58Z  "
      ]
     },
     "execution_count": 11,
     "metadata": {},
     "output_type": "execute_result"
    }
   ],
   "source": [
    "config.head(5)"
   ]
  },
  {
   "cell_type": "markdown",
   "metadata": {},
   "source": [
    "## Merge Daily Data & Config"
   ]
  },
  {
   "cell_type": "code",
   "execution_count": 12,
   "metadata": {},
   "outputs": [],
   "source": [
    "merged = df.merge(config, on = \"MeterID\")"
   ]
  },
  {
   "cell_type": "code",
   "execution_count": 13,
   "metadata": {},
   "outputs": [
    {
     "name": "stdout",
     "output_type": "stream",
     "text": [
      "(142224, 24)\n"
     ]
    },
    {
     "data": {
      "text/plain": [
       "['MeterID',\n",
       " 'CurrentValue',\n",
       " 'ValueString',\n",
       " 'Time',\n",
       " 'Building',\n",
       " 'Unit',\n",
       " 'Status',\n",
       " 'StatusCode',\n",
       " 'BuildingID',\n",
       " 'Description',\n",
       " 'Units',\n",
       " 'Resource',\n",
       " 'BuildingName',\n",
       " 'GrossSquareFeet',\n",
       " 'BuildDate',\n",
       " 'Latitude',\n",
       " 'Longitude',\n",
       " 'Campus',\n",
       " 'Organization',\n",
       " 'LocationType',\n",
       " 'SteamSourceID',\n",
       " 'ChilledWaterSourceID',\n",
       " 'HotWaterSourceID',\n",
       " 'ActivationDate']"
      ]
     },
     "execution_count": 13,
     "metadata": {},
     "output_type": "execute_result"
    }
   ],
   "source": [
    "print(merged.shape)\n",
    "list(merged.columns)"
   ]
  },
  {
   "cell_type": "code",
   "execution_count": 14,
   "metadata": {},
   "outputs": [
    {
     "data": {
      "text/plain": [
       "array(['Electricity', 'Chilled Water ', 'Steam', 'Heating Hot Water'],\n",
       "      dtype=object)"
      ]
     },
     "execution_count": 14,
     "metadata": {},
     "output_type": "execute_result"
    }
   ],
   "source": [
    "merged.Resource.unique()"
   ]
  },
  {
   "cell_type": "code",
   "execution_count": 18,
   "metadata": {},
   "outputs": [
    {
     "name": "stdout",
     "output_type": "stream",
     "text": [
      "Electricity\n",
      "0    kWh\n",
      "Name: Units, dtype: object\n",
      "Chilled Water \n",
      "10478    KBTU/HR\n",
      "Name: Units, dtype: object\n",
      "Steam\n",
      "10705    KBTU/HR\n",
      "Name: Units, dtype: object\n",
      "Heating Hot Water\n",
      "11789    KBTU/HR\n",
      "Name: Units, dtype: object\n"
     ]
    }
   ],
   "source": [
    "for resource in merged.Resource.unique():\n",
    "    print(resource)\n",
    "    print(merged.Units[merged.Resource == resource].head(1))"
   ]
  },
  {
   "cell_type": "code",
   "execution_count": 76,
   "metadata": {},
   "outputs": [
    {
     "name": "stdout",
     "output_type": "stream",
     "text": [
      "109\n",
      "4\n",
      "354\n"
     ]
    }
   ],
   "source": [
    "# Not every building has every type of resource\n",
    "print(len(merged.BuildingName.unique())) # from congif\n",
    "print(len(merged.Resource.unique())) # from config\n",
    "print(len(merged.Building.unique())) # from data (df)"
   ]
  },
  {
   "cell_type": "code",
   "execution_count": 77,
   "metadata": {},
   "outputs": [
    {
     "data": {
      "text/html": [
       "<div>\n",
       "<style scoped>\n",
       "    .dataframe tbody tr th:only-of-type {\n",
       "        vertical-align: middle;\n",
       "    }\n",
       "\n",
       "    .dataframe tbody tr th {\n",
       "        vertical-align: top;\n",
       "    }\n",
       "\n",
       "    .dataframe thead tr th {\n",
       "        text-align: left;\n",
       "    }\n",
       "\n",
       "    .dataframe thead tr:last-of-type th {\n",
       "        text-align: right;\n",
       "    }\n",
       "</style>\n",
       "<table border=\"1\" class=\"dataframe\">\n",
       "  <thead>\n",
       "    <tr>\n",
       "      <th></th>\n",
       "      <th></th>\n",
       "      <th></th>\n",
       "      <th colspan=\"2\" halign=\"left\">CurrentValue</th>\n",
       "    </tr>\n",
       "    <tr>\n",
       "      <th></th>\n",
       "      <th></th>\n",
       "      <th></th>\n",
       "      <th>amin</th>\n",
       "      <th>amax</th>\n",
       "    </tr>\n",
       "    <tr>\n",
       "      <th>LocationType</th>\n",
       "      <th>BuildingName</th>\n",
       "      <th>Resource</th>\n",
       "      <th></th>\n",
       "      <th></th>\n",
       "    </tr>\n",
       "  </thead>\n",
       "  <tbody>\n",
       "    <tr>\n",
       "      <th rowspan=\"3\" valign=\"top\">Academic</th>\n",
       "      <th rowspan=\"2\" valign=\"top\">Arps, George F, Hall</th>\n",
       "      <th>Electricity</th>\n",
       "      <td>2.718341e+05</td>\n",
       "      <td>1.308294e+06</td>\n",
       "    </tr>\n",
       "    <tr>\n",
       "      <th>Heating Hot Water</th>\n",
       "      <td>0.000000e+00</td>\n",
       "      <td>2.494939e+03</td>\n",
       "    </tr>\n",
       "    <tr>\n",
       "      <th>Baker, David F, Systems Engineering Building (The)</th>\n",
       "      <th>Chilled Water</th>\n",
       "      <td>-2.747070e+35</td>\n",
       "      <td>1.400806e+03</td>\n",
       "    </tr>\n",
       "  </tbody>\n",
       "</table>\n",
       "</div>"
      ],
      "text/plain": [
       "                                                                                   CurrentValue  \\\n",
       "                                                                                           amin   \n",
       "LocationType BuildingName                                       Resource                          \n",
       "Academic     Arps, George F, Hall                               Electricity        2.718341e+05   \n",
       "                                                                Heating Hot Water  0.000000e+00   \n",
       "             Baker, David F, Systems Engineering Building (The) Chilled Water     -2.747070e+35   \n",
       "\n",
       "                                                                                                 \n",
       "                                                                                           amax  \n",
       "LocationType BuildingName                                       Resource                         \n",
       "Academic     Arps, George F, Hall                               Electricity        1.308294e+06  \n",
       "                                                                Heating Hot Water  2.494939e+03  \n",
       "             Baker, David F, Systems Engineering Building (The) Chilled Water      1.400806e+03  "
      ]
     },
     "execution_count": 77,
     "metadata": {},
     "output_type": "execute_result"
    }
   ],
   "source": [
    "merged.groupby(['LocationType', 'BuildingName', 'Resource']).agg({'CurrentValue' : [np.min, np.max]}).head(3)"
   ]
  },
  {
   "cell_type": "code",
   "execution_count": 78,
   "metadata": {},
   "outputs": [
    {
     "data": {
      "text/html": [
       "<div>\n",
       "<style scoped>\n",
       "    .dataframe tbody tr th:only-of-type {\n",
       "        vertical-align: middle;\n",
       "    }\n",
       "\n",
       "    .dataframe tbody tr th {\n",
       "        vertical-align: top;\n",
       "    }\n",
       "\n",
       "    .dataframe thead th {\n",
       "        text-align: right;\n",
       "    }\n",
       "</style>\n",
       "<table border=\"1\" class=\"dataframe\">\n",
       "  <thead>\n",
       "    <tr style=\"text-align: right;\">\n",
       "      <th></th>\n",
       "      <th>MeterID</th>\n",
       "      <th>CurrentValue</th>\n",
       "      <th>ValueString</th>\n",
       "      <th>Time</th>\n",
       "      <th>Building</th>\n",
       "      <th>Unit</th>\n",
       "      <th>Status</th>\n",
       "      <th>StatusCode</th>\n",
       "      <th>BuildingID</th>\n",
       "      <th>Description</th>\n",
       "      <th>...</th>\n",
       "      <th>BuildDate</th>\n",
       "      <th>Latitude</th>\n",
       "      <th>Longitude</th>\n",
       "      <th>Campus</th>\n",
       "      <th>Organization</th>\n",
       "      <th>LocationType</th>\n",
       "      <th>SteamSourceID</th>\n",
       "      <th>ChilledWaterSourceID</th>\n",
       "      <th>HotWaterSourceID</th>\n",
       "      <th>ActivationDate</th>\n",
       "    </tr>\n",
       "  </thead>\n",
       "  <tbody>\n",
       "    <tr>\n",
       "      <th>7558</th>\n",
       "      <td>OSU_RTS.MDBUS_RH.1108_EC1</td>\n",
       "      <td>1.372626e+06</td>\n",
       "      <td>1.372626e+06</td>\n",
       "      <td>2017-01-01T00:00:00Z</td>\n",
       "      <td>SCOTT HOUSE ELEC 1 CONS</td>\n",
       "      <td>kWh</td>\n",
       "      <td>OK</td>\n",
       "      <td>2051</td>\n",
       "      <td>1108</td>\n",
       "      <td>SCOTT HOUSE ELEC 1 CONS</td>\n",
       "      <td>...</td>\n",
       "      <td>2015-07-01</td>\n",
       "      <td>40.00439</td>\n",
       "      <td>-83.01339</td>\n",
       "      <td>Main</td>\n",
       "      <td>SDL</td>\n",
       "      <td>Student Housing</td>\n",
       "      <td>NaN</td>\n",
       "      <td>NaN</td>\n",
       "      <td>NaN</td>\n",
       "      <td>2016-12-31T23:59:32Z</td>\n",
       "    </tr>\n",
       "    <tr>\n",
       "      <th>7559</th>\n",
       "      <td>OSU_RTS.MDBUS_RH.1108_EC1</td>\n",
       "      <td>1.374825e+06</td>\n",
       "      <td>1.374825e+06</td>\n",
       "      <td>2017-01-02T00:00:00Z</td>\n",
       "      <td>SCOTT HOUSE ELEC 1 CONS</td>\n",
       "      <td>kWh</td>\n",
       "      <td>OK</td>\n",
       "      <td>2051</td>\n",
       "      <td>1108</td>\n",
       "      <td>SCOTT HOUSE ELEC 1 CONS</td>\n",
       "      <td>...</td>\n",
       "      <td>2015-07-01</td>\n",
       "      <td>40.00439</td>\n",
       "      <td>-83.01339</td>\n",
       "      <td>Main</td>\n",
       "      <td>SDL</td>\n",
       "      <td>Student Housing</td>\n",
       "      <td>NaN</td>\n",
       "      <td>NaN</td>\n",
       "      <td>NaN</td>\n",
       "      <td>2016-12-31T23:59:32Z</td>\n",
       "    </tr>\n",
       "    <tr>\n",
       "      <th>7560</th>\n",
       "      <td>OSU_RTS.MDBUS_RH.1108_EC1</td>\n",
       "      <td>1.377046e+06</td>\n",
       "      <td>1.377046e+06</td>\n",
       "      <td>2017-01-03T00:00:00Z</td>\n",
       "      <td>SCOTT HOUSE ELEC 1 CONS</td>\n",
       "      <td>kWh</td>\n",
       "      <td>OK</td>\n",
       "      <td>2051</td>\n",
       "      <td>1108</td>\n",
       "      <td>SCOTT HOUSE ELEC 1 CONS</td>\n",
       "      <td>...</td>\n",
       "      <td>2015-07-01</td>\n",
       "      <td>40.00439</td>\n",
       "      <td>-83.01339</td>\n",
       "      <td>Main</td>\n",
       "      <td>SDL</td>\n",
       "      <td>Student Housing</td>\n",
       "      <td>NaN</td>\n",
       "      <td>NaN</td>\n",
       "      <td>NaN</td>\n",
       "      <td>2016-12-31T23:59:32Z</td>\n",
       "    </tr>\n",
       "  </tbody>\n",
       "</table>\n",
       "<p>3 rows × 24 columns</p>\n",
       "</div>"
      ],
      "text/plain": [
       "                        MeterID  CurrentValue   ValueString  \\\n",
       "7558  OSU_RTS.MDBUS_RH.1108_EC1  1.372626e+06  1.372626e+06   \n",
       "7559  OSU_RTS.MDBUS_RH.1108_EC1  1.374825e+06  1.374825e+06   \n",
       "7560  OSU_RTS.MDBUS_RH.1108_EC1  1.377046e+06  1.377046e+06   \n",
       "\n",
       "                      Time                 Building Unit Status  StatusCode  \\\n",
       "7558  2017-01-01T00:00:00Z  SCOTT HOUSE ELEC 1 CONS  kWh     OK        2051   \n",
       "7559  2017-01-02T00:00:00Z  SCOTT HOUSE ELEC 1 CONS  kWh     OK        2051   \n",
       "7560  2017-01-03T00:00:00Z  SCOTT HOUSE ELEC 1 CONS  kWh     OK        2051   \n",
       "\n",
       "      BuildingID              Description  ...   BuildDate  Latitude  \\\n",
       "7558        1108  SCOTT HOUSE ELEC 1 CONS  ...  2015-07-01  40.00439   \n",
       "7559        1108  SCOTT HOUSE ELEC 1 CONS  ...  2015-07-01  40.00439   \n",
       "7560        1108  SCOTT HOUSE ELEC 1 CONS  ...  2015-07-01  40.00439   \n",
       "\n",
       "     Longitude  Campus Organization     LocationType  SteamSourceID  \\\n",
       "7558 -83.01339    Main          SDL  Student Housing            NaN   \n",
       "7559 -83.01339    Main          SDL  Student Housing            NaN   \n",
       "7560 -83.01339    Main          SDL  Student Housing            NaN   \n",
       "\n",
       "     ChilledWaterSourceID HotWaterSourceID        ActivationDate  \n",
       "7558                  NaN              NaN  2016-12-31T23:59:32Z  \n",
       "7559                  NaN              NaN  2016-12-31T23:59:32Z  \n",
       "7560                  NaN              NaN  2016-12-31T23:59:32Z  \n",
       "\n",
       "[3 rows x 24 columns]"
      ]
     },
     "execution_count": 78,
     "metadata": {},
     "output_type": "execute_result"
    }
   ],
   "source": [
    "merged[merged.BuildingName.str.contains(\"Scott\").fillna(False)].head(3)"
   ]
  },
  {
   "cell_type": "code",
   "execution_count": 79,
   "metadata": {},
   "outputs": [
    {
     "data": {
      "text/plain": [
       "array(['Kennedy, June F, Commons', 'Torres House', 'Houston House',\n",
       "       'Raney House', 'Bowen House', 'Busch House', 'Curl Hall',\n",
       "       'Blackburn House', 'Scott House', 'Nosker House', 'Ohio Union',\n",
       "       'Recreation and Physical Activity Center',\n",
       "       'Morrill, Justin S, Tower', 'Park-Stradley Hall',\n",
       "       'Smith-Steeb Hall', 'Siebert Hall'], dtype=object)"
      ]
     },
     "execution_count": 79,
     "metadata": {},
     "output_type": "execute_result"
    }
   ],
   "source": [
    "merged.BuildingName[merged.LocationType == \"Student Housing\"].unique()"
   ]
  },
  {
   "cell_type": "markdown",
   "metadata": {},
   "source": [
    "## Merge with Dorm Capacity"
   ]
  },
  {
   "cell_type": "code",
   "execution_count": 80,
   "metadata": {},
   "outputs": [],
   "source": [
    "dorms = pd.read_csv(\"data/dorm_data.csv\")"
   ]
  },
  {
   "cell_type": "code",
   "execution_count": 81,
   "metadata": {},
   "outputs": [
    {
     "name": "stdout",
     "output_type": "stream",
     "text": [
      "(41, 6)\n"
     ]
    },
    {
     "data": {
      "text/plain": [
       "['DormName', 'OnePR', 'TwoPR', 'ThreePR', 'FourPR', 'NumOccupants']"
      ]
     },
     "execution_count": 81,
     "metadata": {},
     "output_type": "execute_result"
    }
   ],
   "source": [
    "print(dorms.shape)\n",
    "list(dorms.columns)"
   ]
  },
  {
   "cell_type": "code",
   "execution_count": 82,
   "metadata": {},
   "outputs": [
    {
     "data": {
      "text/html": [
       "<div>\n",
       "<style scoped>\n",
       "    .dataframe tbody tr th:only-of-type {\n",
       "        vertical-align: middle;\n",
       "    }\n",
       "\n",
       "    .dataframe tbody tr th {\n",
       "        vertical-align: top;\n",
       "    }\n",
       "\n",
       "    .dataframe thead th {\n",
       "        text-align: right;\n",
       "    }\n",
       "</style>\n",
       "<table border=\"1\" class=\"dataframe\">\n",
       "  <thead>\n",
       "    <tr style=\"text-align: right;\">\n",
       "      <th></th>\n",
       "      <th>DormName</th>\n",
       "      <th>OnePR</th>\n",
       "      <th>TwoPR</th>\n",
       "      <th>ThreePR</th>\n",
       "      <th>FourPR</th>\n",
       "      <th>NumOccupants</th>\n",
       "    </tr>\n",
       "  </thead>\n",
       "  <tbody>\n",
       "    <tr>\n",
       "      <th>0</th>\n",
       "      <td>Archer House</td>\n",
       "      <td>20</td>\n",
       "      <td>42</td>\n",
       "      <td>0</td>\n",
       "      <td>0</td>\n",
       "      <td>62</td>\n",
       "    </tr>\n",
       "    <tr>\n",
       "      <th>1</th>\n",
       "      <td>Baker Hall East</td>\n",
       "      <td>72</td>\n",
       "      <td>113</td>\n",
       "      <td>17</td>\n",
       "      <td>0</td>\n",
       "      <td>202</td>\n",
       "    </tr>\n",
       "    <tr>\n",
       "      <th>2</th>\n",
       "      <td>Baker Hall West</td>\n",
       "      <td>79</td>\n",
       "      <td>125</td>\n",
       "      <td>24</td>\n",
       "      <td>2</td>\n",
       "      <td>230</td>\n",
       "    </tr>\n",
       "    <tr>\n",
       "      <th>3</th>\n",
       "      <td>Barrett House</td>\n",
       "      <td>0</td>\n",
       "      <td>15</td>\n",
       "      <td>11</td>\n",
       "      <td>28</td>\n",
       "      <td>54</td>\n",
       "    </tr>\n",
       "    <tr>\n",
       "      <th>4</th>\n",
       "      <td>Blackburn House</td>\n",
       "      <td>13</td>\n",
       "      <td>210</td>\n",
       "      <td>0</td>\n",
       "      <td>56</td>\n",
       "      <td>279</td>\n",
       "    </tr>\n",
       "  </tbody>\n",
       "</table>\n",
       "</div>"
      ],
      "text/plain": [
       "          DormName  OnePR  TwoPR  ThreePR  FourPR  NumOccupants\n",
       "0     Archer House     20     42        0       0            62\n",
       "1  Baker Hall East     72    113       17       0           202\n",
       "2  Baker Hall West     79    125       24       2           230\n",
       "3    Barrett House      0     15       11      28            54\n",
       "4  Blackburn House     13    210        0      56           279"
      ]
     },
     "execution_count": 82,
     "metadata": {},
     "output_type": "execute_result"
    }
   ],
   "source": [
    "dorms.head(5)"
   ]
  },
  {
   "cell_type": "code",
   "execution_count": 83,
   "metadata": {},
   "outputs": [
    {
     "name": "stdout",
     "output_type": "stream",
     "text": [
      "41\n"
     ]
    },
    {
     "data": {
      "text/plain": [
       "array(['Archer House', 'Baker Hall East', 'Baker Hall West',\n",
       "       'Barrett House', 'Blackburn House', 'Bowen House', 'Bradley Hall',\n",
       "       'Busch House', 'Canfield Hall', 'Drackett Tower', 'Fechko House',\n",
       "       'German House', 'Halloran House', 'Hanley House',\n",
       "       'Haverfield House', 'Houck House', 'Houston House', 'Jones Tower',\n",
       "       'Lawrence Tower', 'Lincoln Tower', 'Mack Hall', 'Mendoza House',\n",
       "       'Morrill Tower', 'Morrison Tower', 'Neil Avenue', 'Norton House',\n",
       "       'Nosker House', 'Park-Stradley Hall', 'Paterson Hall',\n",
       "       'Pennsylvania Place', 'Pomerene House', 'Raney House',\n",
       "       'Scholars East', 'Scholars West', 'Scott House', 'Siebert Hall',\n",
       "       'Smith-Steeb Hall', 'Taylor Tower', 'The Residence on Tenth',\n",
       "       'Torres House', 'Worthington Building'], dtype=object)"
      ]
     },
     "execution_count": 83,
     "metadata": {},
     "output_type": "execute_result"
    }
   ],
   "source": [
    "print(len(dorms.DormName.unique()))\n",
    "dorms.DormName.unique()"
   ]
  },
  {
   "cell_type": "code",
   "execution_count": 84,
   "metadata": {},
   "outputs": [],
   "source": [
    "# merged.BuildingName[merged.BuildingName.str.contains(\"Morrill\").fillna(False)] = \"Morrill Tower\" # SetWithCopy Warning!\n",
    "merged.loc[merged.BuildingName.str.contains(\"Morrill\").fillna(False), 'BuildingName'] = \"Morrill Tower\" # use loc to fix"
   ]
  },
  {
   "cell_type": "code",
   "execution_count": 85,
   "metadata": {},
   "outputs": [],
   "source": [
    "full = merged.merge(dorms, left_on = \"BuildingName\", right_on = \"DormName\", how = \"left\")"
   ]
  },
  {
   "cell_type": "code",
   "execution_count": 86,
   "metadata": {},
   "outputs": [
    {
     "name": "stdout",
     "output_type": "stream",
     "text": [
      "(142224, 30)\n"
     ]
    },
    {
     "data": {
      "text/plain": [
       "['MeterID',\n",
       " 'CurrentValue',\n",
       " 'ValueString',\n",
       " 'Time',\n",
       " 'Building',\n",
       " 'Unit',\n",
       " 'Status',\n",
       " 'StatusCode',\n",
       " 'BuildingID',\n",
       " 'Description',\n",
       " 'Units',\n",
       " 'Resource',\n",
       " 'BuildingName',\n",
       " 'GrossSquareFeet',\n",
       " 'BuildDate',\n",
       " 'Latitude',\n",
       " 'Longitude',\n",
       " 'Campus',\n",
       " 'Organization',\n",
       " 'LocationType',\n",
       " 'SteamSourceID',\n",
       " 'ChilledWaterSourceID',\n",
       " 'HotWaterSourceID',\n",
       " 'ActivationDate',\n",
       " 'DormName',\n",
       " 'OnePR',\n",
       " 'TwoPR',\n",
       " 'ThreePR',\n",
       " 'FourPR',\n",
       " 'NumOccupants']"
      ]
     },
     "execution_count": 86,
     "metadata": {},
     "output_type": "execute_result"
    }
   ],
   "source": [
    "print(full.shape)\n",
    "list(full.columns)"
   ]
  },
  {
   "cell_type": "code",
   "execution_count": 87,
   "metadata": {},
   "outputs": [
    {
     "name": "stdout",
     "output_type": "stream",
     "text": [
      "16\n",
      "['Kennedy, June F, Commons' 'Torres House' 'Houston House' 'Raney House'\n",
      " 'Bowen House' 'Busch House' 'Curl Hall' 'Blackburn House' 'Scott House'\n",
      " 'Nosker House' 'Ohio Union' 'Recreation and Physical Activity Center'\n",
      " 'Morrill Tower' 'Park-Stradley Hall' 'Smith-Steeb Hall' 'Siebert Hall']\n"
     ]
    }
   ],
   "source": [
    "print(len(full.BuildingName[merged.LocationType == \"Student Housing\"].unique()))\n",
    "print(full.BuildingName[merged.LocationType == \"Student Housing\"].unique())\n",
    "dorms_in_engie = full.BuildingName[merged.LocationType == \"Student Housing\"].unique()\n",
    "# dorms_in_both = full.BuildingName[merged.LocationType == \"Student Housing\"].unique() # for outer join\n",
    "# print(len(dorms_in_both)) # Correct!\n",
    "# dorms_in_both"
   ]
  },
  {
   "cell_type": "code",
   "execution_count": 88,
   "metadata": {},
   "outputs": [],
   "source": [
    "# set(dorms_in_engie) - set(dorms_in_both)"
   ]
  },
  {
   "cell_type": "code",
   "execution_count": 90,
   "metadata": {},
   "outputs": [
    {
     "data": {
      "text/html": [
       "<div>\n",
       "<style scoped>\n",
       "    .dataframe tbody tr th:only-of-type {\n",
       "        vertical-align: middle;\n",
       "    }\n",
       "\n",
       "    .dataframe tbody tr th {\n",
       "        vertical-align: top;\n",
       "    }\n",
       "\n",
       "    .dataframe thead tr th {\n",
       "        text-align: left;\n",
       "    }\n",
       "\n",
       "    .dataframe thead tr:last-of-type th {\n",
       "        text-align: right;\n",
       "    }\n",
       "</style>\n",
       "<table border=\"1\" class=\"dataframe\">\n",
       "  <thead>\n",
       "    <tr>\n",
       "      <th></th>\n",
       "      <th></th>\n",
       "      <th></th>\n",
       "      <th colspan=\"2\" halign=\"left\">CurrentValue</th>\n",
       "      <th colspan=\"2\" halign=\"left\">NumOccupants</th>\n",
       "    </tr>\n",
       "    <tr>\n",
       "      <th></th>\n",
       "      <th></th>\n",
       "      <th></th>\n",
       "      <th>amin</th>\n",
       "      <th>amax</th>\n",
       "      <th>amin</th>\n",
       "      <th>amax</th>\n",
       "    </tr>\n",
       "    <tr>\n",
       "      <th>LocationType</th>\n",
       "      <th>BuildingName</th>\n",
       "      <th>Resource</th>\n",
       "      <th></th>\n",
       "      <th></th>\n",
       "      <th></th>\n",
       "      <th></th>\n",
       "    </tr>\n",
       "  </thead>\n",
       "  <tbody>\n",
       "    <tr>\n",
       "      <th rowspan=\"3\" valign=\"top\">Student Housing</th>\n",
       "      <th rowspan=\"3\" valign=\"top\">Blackburn House</th>\n",
       "      <th>Chilled Water</th>\n",
       "      <td>2.973204e+01</td>\n",
       "      <td>1.733012e+03</td>\n",
       "      <td>279.0</td>\n",
       "      <td>279.0</td>\n",
       "    </tr>\n",
       "    <tr>\n",
       "      <th>Electricity</th>\n",
       "      <td>-2.183528e+07</td>\n",
       "      <td>2.845196e+07</td>\n",
       "      <td>279.0</td>\n",
       "      <td>279.0</td>\n",
       "    </tr>\n",
       "    <tr>\n",
       "      <th>Heating Hot Water</th>\n",
       "      <td>0.000000e+00</td>\n",
       "      <td>1.325855e+03</td>\n",
       "      <td>279.0</td>\n",
       "      <td>279.0</td>\n",
       "    </tr>\n",
       "  </tbody>\n",
       "</table>\n",
       "</div>"
      ],
      "text/plain": [
       "                                                   CurrentValue                \\\n",
       "                                                           amin          amax   \n",
       "LocationType    BuildingName    Resource                                        \n",
       "Student Housing Blackburn House Chilled Water      2.973204e+01  1.733012e+03   \n",
       "                                Electricity       -2.183528e+07  2.845196e+07   \n",
       "                                Heating Hot Water  0.000000e+00  1.325855e+03   \n",
       "\n",
       "                                                  NumOccupants         \n",
       "                                                          amin   amax  \n",
       "LocationType    BuildingName    Resource                               \n",
       "Student Housing Blackburn House Chilled Water            279.0  279.0  \n",
       "                                Electricity              279.0  279.0  \n",
       "                                Heating Hot Water        279.0  279.0  "
      ]
     },
     "execution_count": 90,
     "metadata": {},
     "output_type": "execute_result"
    }
   ],
   "source": [
    "full[full.LocationType == \"Student Housing\"].groupby(['LocationType', 'BuildingName', 'Resource']).agg({'CurrentValue' : [np.min, np.max], 'NumOccupants' : [np.min, np.max]}).head(3)"
   ]
  },
  {
   "cell_type": "code",
   "execution_count": 91,
   "metadata": {},
   "outputs": [],
   "source": [
    "full.to_csv(\"data/energy_and_dorm_capacity.csv\", index = False)"
   ]
  },
  {
   "cell_type": "markdown",
   "metadata": {},
   "source": [
    "## Unaccumulating Electricity"
   ]
  },
  {
   "cell_type": "code",
   "execution_count": null,
   "metadata": {},
   "outputs": [],
   "source": [
    "# TOOD"
   ]
  }
 ],
 "metadata": {
  "kernelspec": {
   "display_name": "Python 3",
   "language": "python",
   "name": "python3"
  },
  "language_info": {
   "codemirror_mode": {
    "name": "ipython",
    "version": 3
   },
   "file_extension": ".py",
   "mimetype": "text/x-python",
   "name": "python",
   "nbconvert_exporter": "python",
   "pygments_lexer": "ipython3",
   "version": "3.7.3"
  }
 },
 "nbformat": 4,
 "nbformat_minor": 2
}
